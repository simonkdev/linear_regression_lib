{
 "cells": [
  {
   "cell_type": "code",
   "execution_count": 1,
   "id": "f0c1a1e1",
   "metadata": {
    "vscode": {
     "languageId": "plaintext"
    }
   },
   "outputs": [],
   "source": [
    "import numpy as np\n",
    "import pandas as pd\n",
    "import matplotlib.pyplot as plt\n",
    "import seaborn as sns\n",
    "%matplotlib inline"
   ]
  },
  {
   "cell_type": "code",
   "execution_count": 2,
   "id": "84dd9123",
   "metadata": {},
   "outputs": [],
   "source": [
    "df = pd.read_csv('data/ex1data2.txt')\n",
    "df_test = pd.read_csv('data/ex1data3.txt')\n",
    "df.columns = ['house_size', 'bedrooms','house_price']\n",
    "df_test.columns = ['house_size', 'bedrooms','house_price']"
   ]
  },
  {
   "cell_type": "code",
   "execution_count": 3,
   "id": "52185171",
   "metadata": {},
   "outputs": [],
   "source": [
    "# ax = sns.scatterplot(data=df, x='house_size', y='bedrooms', z='house_price')   \n",
    "# ax.set(xlabel='Population of City in 10,000s', ylabel='Profit in $10,000s', title='Scatter plot of training data')"
   ]
  },
  {
   "cell_type": "code",
   "execution_count": 4,
   "id": "bfb2a291-d08d-4b26-ab71-6527b0fb08ef",
   "metadata": {},
   "outputs": [],
   "source": [
    "n = df.shape[0]\n",
    "X = np.hstack((np.ones((n, 1)), df.house_size.values.reshape(n, 1), df.bedrooms.values.reshape(n, 1)))\n",
    "Y = df.house_price.values.reshape(n,1)\n",
    "\n",
    "X_test = \n",
    "Y_test = \n",
    "\n",
    "\n",
    "iterations = 1500\n",
    "alpha = 0.1"
   ]
  },
  {
   "cell_type": "code",
   "execution_count": 5,
   "id": "df9dba78",
   "metadata": {},
   "outputs": [
    {
     "name": "stdout",
     "output_type": "stream",
     "text": [
      "[[ 0.00000000e+00 -5.01457678e-01 -2.28664780e-01]\n",
      " [ 0.00000000e+00  5.05397546e-01 -2.28664780e-01]\n",
      " [ 0.00000000e+00 -7.33034380e-01 -1.54348727e+00]\n",
      " [ 0.00000000e+00  1.26053896e+00  1.08615771e+00]\n",
      " [ 0.00000000e+00 -1.69086013e-02  1.08615771e+00]\n",
      " [ 0.00000000e+00 -5.84523234e-01 -2.28664780e-01]\n",
      " [ 0.00000000e+00 -7.19190120e-01 -2.28664780e-01]\n",
      " [ 0.00000000e+00 -7.78342865e-01 -2.28664780e-01]\n",
      " [ 0.00000000e+00 -6.34865995e-01 -2.28664780e-01]\n",
      " [ 0.00000000e+00 -7.35442077e-02  1.08615771e+00]\n",
      " [ 0.00000000e+00  1.96993413e-03 -2.28664780e-01]\n",
      " [ 0.00000000e+00 -1.36472659e-01 -2.28664780e-01]\n",
      " [ 0.00000000e+00  3.12070399e+00  2.40098019e+00]\n",
      " [ 0.00000000e+00 -9.19302596e-01 -2.28664780e-01]\n",
      " [ 0.00000000e+00  3.79540643e-01  1.08615771e+00]\n",
      " [ 0.00000000e+00 -8.53857006e-01 -1.54348727e+00]\n",
      " [ 0.00000000e+00 -9.59576805e-01 -2.28664780e-01]\n",
      " [ 0.00000000e+00  7.68438474e-01  1.08615771e+00]\n",
      " [ 0.00000000e+00  1.29955460e+00  1.08615771e+00]\n",
      " [ 0.00000000e+00 -2.91276650e-01 -2.28664780e-01]\n",
      " [ 0.00000000e+00 -1.38989797e-01 -1.54348727e+00]\n",
      " [ 0.00000000e+00 -4.96423402e-01 -2.28664780e-01]\n",
      " [ 0.00000000e+00 -4.58556890e-02  1.08615771e+00]\n",
      " [ 0.00000000e+00  2.38066540e+00 -2.28664780e-01]\n",
      " [ 0.00000000e+00 -1.13074219e+00 -2.28664780e-01]\n",
      " [ 0.00000000e+00 -6.80174480e-01 -2.28664780e-01]\n",
      " [ 0.00000000e+00  6.63977244e-01 -2.28664780e-01]\n",
      " [ 0.00000000e+00  2.53683740e-01 -2.28664780e-01]\n",
      " [ 0.00000000e+00  8.03678406e-01 -2.28664780e-01]\n",
      " [ 0.00000000e+00 -2.00659680e-01 -1.54348727e+00]\n",
      " [ 0.00000000e+00 -1.25659910e+00 -2.85830975e+00]\n",
      " [ 0.00000000e+00  5.23126953e-02  1.08615771e+00]\n",
      " [ 0.00000000e+00  1.43296292e+00 -2.28664780e-01]\n",
      " [ 0.00000000e+00 -2.35899613e-01  1.08615771e+00]\n",
      " [ 0.00000000e+00 -7.06604430e-01 -2.28664780e-01]\n",
      " [ 0.00000000e+00 -9.55801098e-01 -2.28664780e-01]\n",
      " [ 0.00000000e+00  1.68101046e-01  1.08615771e+00]\n",
      " [ 0.00000000e+00  2.78970034e+00  1.08615771e+00]\n",
      " [ 0.00000000e+00  2.05858117e-01  1.08615771e+00]\n",
      " [ 0.00000000e+00 -4.20909260e-01 -1.54348727e+00]\n",
      " [ 0.00000000e+00  3.01509363e-01 -2.28664780e-01]\n",
      " [ 0.00000000e+00  7.15578574e-01  1.08615771e+00]\n",
      " [ 0.00000000e+00 -1.00488529e+00 -2.28664780e-01]\n",
      " [ 0.00000000e+00 -1.44286731e+00 -1.54348727e+00]\n",
      " [ 0.00000000e+00 -1.84298282e-01  1.08615771e+00]\n",
      " [ 0.00000000e+00 -1.00110958e+00 -2.28664780e-01]]\n"
     ]
    }
   ],
   "source": [
    "\n",
    "\n",
    "X_norm = X.copy() #.astype(float)  # make sure it's float\n",
    "mu = X_norm.mean(axis=0)\n",
    "sigma = X_norm.std(axis=0)\n",
    "\n",
    "# avoid division by zero\n",
    "sigma[sigma == 0] = 1  \n",
    "\n",
    "X = (X_norm - mu) / sigma"
   ]
  },
  {
   "cell_type": "code",
   "execution_count": 6,
   "id": "478308d6-1167-4f93-831a-7adbb8aef55f",
   "metadata": {},
   "outputs": [],
   "source": [
    "def compute_cost(X, Y, theta):\n",
    "    n = X.shape[0]           # the shape of X and shape of theta: n x 2 and 2 x 1 --> h must have shape n x 1 \n",
    "    h = X.dot(theta)\n",
    "    J = ((1/2*n) * np.sum((h-Y) **2))\n",
    "    return J"
   ]
  },
  {
   "cell_type": "code",
   "execution_count": 7,
   "id": "2702f317-26e9-449f-9a04-83eb4840188b",
   "metadata": {},
   "outputs": [],
   "source": [
    "def gradient_descent(X, Y):\n",
    "    n = X.shape[0]\n",
    "    theta = np.zeros((X.shape[1],1))\n",
    "    \n",
    "    for i in range(0, iterations):\n",
    "        h = X.dot(theta)\n",
    "        diff_hy = h - Y \n",
    "        delta = (1/n) * (diff_hy.T.dot(X))\n",
    "        theta = theta - (alpha * delta.T)\n",
    "    \n",
    "    return theta\n",
    "\n",
    "# DELTA IS JUST WEIGHING THE THINGS, it is basically the version of the sum part in our algorithm (dot product = sum of all products and later, we divide by the number (multiplying with alpha divided by n) so delta is just the weighed sum before we calculate the average error and correct it using alpha and subtracting from theta) "
   ]
  },
  {
   "cell_type": "code",
   "execution_count": 8,
   "id": "f778055b-7dbe-4ba7-8d18-72812979e44e",
   "metadata": {},
   "outputs": [],
   "source": [
    "theta = gradient_descent(X,Y)\n",
    "\n",
    "#ax = sns.scatterplot(x='population', y='profit', data=df)\n",
    "#plt.plot(X[:,1], X.dot(theta), color='r')\n",
    "#ax.set(xlabel='Population of City in 10,000s', ylabel='Profit in $10,000s', title='Training data with linear regression fit');"
   ]
  },
  {
   "cell_type": "code",
   "execution_count": 9,
   "id": "28ee90b6-ba7a-4bf2-ab1c-c0dc3e7a04b7",
   "metadata": {},
   "outputs": [
    {
     "name": "stdout",
     "output_type": "stream",
     "text": [
      "[[ 0.         -0.24974387 -0.22866478]]\n",
      "[[-26110.27380807]]\n"
     ]
    }
   ],
   "source": [
    "results =  final_test_data.dot(theta)\n",
    "print(results)"
   ]
  },
  {
   "cell_type": "code",
   "execution_count": null,
   "id": "09d8f11b-fe3e-40fb-953c-3bad984269e5",
   "metadata": {},
   "outputs": [],
   "source": []
  }
 ],
 "metadata": {
  "kernelspec": {
   "display_name": "Python 3 (ipykernel)",
   "language": "python",
   "name": "python3"
  },
  "language_info": {
   "codemirror_mode": {
    "name": "ipython",
    "version": 3
   },
   "file_extension": ".py",
   "mimetype": "text/x-python",
   "name": "python",
   "nbconvert_exporter": "python",
   "pygments_lexer": "ipython3",
   "version": "3.13.5"
  }
 },
 "nbformat": 4,
 "nbformat_minor": 5
}
