{
 "cells": [
  {
   "cell_type": "code",
   "execution_count": 1,
   "id": "f0c1a1e1",
   "metadata": {
    "vscode": {
     "languageId": "plaintext"
    }
   },
   "outputs": [],
   "source": [
    "import numpy as np\n",
    "import pandas as pd\n",
    "import matplotlib.pyplot as plt\n",
    "import seaborn as sns\n",
    "%matplotlib inline"
   ]
  },
  {
   "cell_type": "code",
   "execution_count": 2,
   "id": "84dd9123",
   "metadata": {},
   "outputs": [],
   "source": [
    "df = pd.read_csv('data/ex1data2.csv')\n",
    "df.columns = ['house_size', 'bedrooms','house_price']"
   ]
  },
  {
   "cell_type": "code",
   "execution_count": 3,
   "id": "52185171",
   "metadata": {},
   "outputs": [],
   "source": [
    "# ax = sns.scatterplot(data=df, x='population', y='profit')   \n",
    "# ax.set(xlabel='Population of City in 10,000s', ylabel='Profit in $10,000s', title='Scatter plot of training data')"
   ]
  },
  {
   "cell_type": "code",
   "execution_count": 7,
   "id": "bfb2a291-d08d-4b26-ab71-6527b0fb08ef",
   "metadata": {},
   "outputs": [],
   "source": [
    "n = df.shape[0]\n",
    "X = np.hstack((np.ones((n, 1)), df.age.values.reshape(n, 1), df.bmi.values.reshape(n, 1), df.children.values.reshape(n, 1)))\n",
    "Y = df.charges.values.reshape(n,1)\n",
    "# df = pd.get_dummies(df, columns=[\"sex\", \"smoker\", \"children\", \"region\"], drop_first=True)\n",
    "\n",
    "iterations = 1500\n",
    "alpha = 0.001\n"
   ]
  },
  {
   "cell_type": "code",
   "execution_count": 8,
   "id": "df9dba78",
   "metadata": {},
   "outputs": [],
   "source": [
    "\n",
    "\n",
    "X_norm = X.copy().astype(float)  # make sure it's float\n",
    "mu = X_norm.mean(axis=0)\n",
    "sigma = X_norm.std(axis=0)\n",
    "\n",
    "# avoid division by zero\n",
    "sigma[sigma == 0] = 1  \n",
    "\n",
    "X = (X_norm - mu) / sigma"
   ]
  },
  {
   "cell_type": "code",
   "execution_count": 9,
   "id": "478308d6-1167-4f93-831a-7adbb8aef55f",
   "metadata": {},
   "outputs": [],
   "source": [
    "def compute_cost(X, Y, theta):\n",
    "    n = X.shape[0]           # the shape of X and shape of theta: n x 2 and 2 x 1 --> h must have shape n x 1 \n",
    "    h = X.dot(theta)\n",
    "    J = ((1/2*n) * np.sum((h-Y) **2))\n",
    "    return J"
   ]
  },
  {
   "cell_type": "code",
   "execution_count": 10,
   "id": "2702f317-26e9-449f-9a04-83eb4840188b",
   "metadata": {},
   "outputs": [],
   "source": [
    "def gradient_descent(X, Y):\n",
    "    n = X.shape[0]\n",
    "    theta = np.zeros((X.shape[1],1))\n",
    "    \n",
    "    for i in range(0, iterations):\n",
    "        h = X.dot(theta)\n",
    "        diff_hy = h - Y \n",
    "        delta = (1/n) * (diff_hy.T.dot(X))\n",
    "        theta = theta - (alpha * delta.T)\n",
    "    \n",
    "    return theta\n",
    "\n",
    "# DELTA IS JUST WEIGHING THE THINGS, it is basically the version of the sum part in our algorithm (dot product = sum of all products and later, we divide by the number (multiplying with alpha divided by n) so delta is just the weighed sum before we calculate the average error and correct it using alpha and subtracting from theta) "
   ]
  },
  {
   "cell_type": "code",
   "execution_count": 11,
   "id": "f778055b-7dbe-4ba7-8d18-72812979e44e",
   "metadata": {},
   "outputs": [],
   "source": [
    "theta = gradient_descent(X,Y)\n",
    "\n",
    "#ax = sns.scatterplot(x='population', y='profit', data=df)\n",
    "#plt.plot(X[:,1], X.dot(theta), color='r')\n",
    "#ax.set(xlabel='Population of City in 10,000s', ylabel='Profit in $10,000s', title='Training data with linear regression fit');"
   ]
  },
  {
   "cell_type": "code",
   "execution_count": 13,
   "id": "28ee90b6-ba7a-4bf2-ab1c-c0dc3e7a04b7",
   "metadata": {},
   "outputs": [
    {
     "name": "stdout",
     "output_type": "stream",
     "text": [
      "[99093.73960761]\n"
     ]
    }
   ],
   "source": [
    "#print(X)\n",
    "#print(Y)\n",
    "#print(theta)\n",
    "results =  np.array([1, 19, 27.9, 1]).dot(theta)\n",
    "print(results)"
   ]
  },
  {
   "cell_type": "code",
   "execution_count": null,
   "id": "09d8f11b-fe3e-40fb-953c-3bad984269e5",
   "metadata": {},
   "outputs": [],
   "source": []
  }
 ],
 "metadata": {
  "kernelspec": {
   "display_name": "Python 3 (ipykernel)",
   "language": "python",
   "name": "python3"
  },
  "language_info": {
   "codemirror_mode": {
    "name": "ipython",
    "version": 3
   },
   "file_extension": ".py",
   "mimetype": "text/x-python",
   "name": "python",
   "nbconvert_exporter": "python",
   "pygments_lexer": "ipython3",
   "version": "3.13.5"
  }
 },
 "nbformat": 4,
 "nbformat_minor": 5
}
